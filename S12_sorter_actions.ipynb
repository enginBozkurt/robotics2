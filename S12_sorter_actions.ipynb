{
  "nbformat": 4,
  "nbformat_minor": 0,
  "metadata": {
    "colab": {
      "name": "S12_sorter_actions.ipynb",
      "provenance": [],
      "authorship_tag": "ABX9TyOcv8pD0ISfOxc5pd9COfP8",
      "include_colab_link": true
    },
    "kernelspec": {
      "name": "python3",
      "display_name": "Python 3"
    },
    "language_info": {
      "name": "python"
    }
  },
  "cells": [
    {
      "cell_type": "markdown",
      "metadata": {
        "id": "view-in-github",
        "colab_type": "text"
      },
      "source": [
        "<a href=\"https://colab.research.google.com/github/dellaert/robotics2/blob/main/S12_sorter_actions.ipynb\" target=\"_parent\"><img src=\"https://colab.research.google.com/assets/colab-badge.svg\" alt=\"Open In Colab\"/></a>"
      ]
    },
    {
      "cell_type": "code",
      "metadata": {
        "colab": {
          "base_uri": "https://localhost:8080/"
        },
        "id": "w-CIikP0ZZnm",
        "outputId": "cef8a493-4d65-46ff-915e-fc59e6be77ef"
      },
      "source": [
        "!pip -q install gtsam"
      ],
      "execution_count": 1,
      "outputs": [
        {
          "output_type": "stream",
          "name": "stdout",
          "text": [
            "\u001b[K     |████████████████████████████████| 5.5 MB 4.7 MB/s \n",
            "\u001b[?25h"
          ]
        }
      ]
    },
    {
      "cell_type": "code",
      "metadata": {
        "id": "uef6Kglzcrha"
      },
      "source": [
        "import gtsam"
      ],
      "execution_count": 2,
      "outputs": []
    },
    {
      "cell_type": "markdown",
      "metadata": {
        "id": "5_gRa4NQZsD4"
      },
      "source": [
        "# Actions for Sorting Trash\n",
        "singulated pieces of trash\n",
        "several destination bins: glass, metal, mixed paper, nop"
      ]
    },
    {
      "cell_type": "code",
      "metadata": {
        "id": "wTjUvyLVcb7v"
      },
      "source": [
        ""
      ],
      "execution_count": null,
      "outputs": []
    }
  ]
}