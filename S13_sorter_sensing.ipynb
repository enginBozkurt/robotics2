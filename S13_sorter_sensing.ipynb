{
  "nbformat": 4,
  "nbformat_minor": 2,
  "metadata": {
    "colab": {
      "name": "S12_sorter_actions.ipynb",
      "provenance": [],
      "authorship_tag": "ABX9TyOcv8pD0ISfOxc5pd9COfP8",
      "include_colab_link": true
    },
    "kernelspec": {
      "name": "python3",
      "display_name": "Python 3.9.6 64-bit ('base': conda)"
    },
    "language_info": {
      "name": "python",
      "version": "3.9.6",
      "mimetype": "text/x-python",
      "codemirror_mode": {
        "name": "ipython",
        "version": 3
      },
      "pygments_lexer": "ipython3",
      "nbconvert_exporter": "python",
      "file_extension": ".py"
    },
    "interpreter": {
      "hash": "95ec9ec1504d83f612128e0fb229072f90bbb4cb09d9d5d93b5dd26e0ca2cfd1"
    }
  },
  "cells": [
    {
      "cell_type": "markdown",
      "source": [
        "<a href=\"https://colab.research.google.com/github/dellaert/robotics2/blob/main/S12_sorter_actions.ipynb\" target=\"_parent\"><img src=\"https://colab.research.google.com/assets/colab-badge.svg\" alt=\"Open In Colab\"/></a>"
      ],
      "metadata": {
        "id": "view-in-github",
        "colab_type": "text"
      }
    },
    {
      "cell_type": "code",
      "execution_count": 1,
      "source": [
        "!pip -q install gtsam"
      ],
      "outputs": [],
      "metadata": {
        "colab": {
          "base_uri": "https://localhost:8080/"
        },
        "id": "w-CIikP0ZZnm",
        "outputId": "cef8a493-4d65-46ff-915e-fc59e6be77ef"
      }
    },
    {
      "cell_type": "code",
      "execution_count": 11,
      "source": [
        "import gtsam\n",
        "import numpy as np\n",
        "import plotly.express as px"
      ],
      "outputs": [],
      "metadata": {
        "id": "uef6Kglzcrha"
      }
    },
    {
      "cell_type": "markdown",
      "source": [
        "# Sensors for Sorting Trash\n",
        "\n",
        "Of course we'd like to be able to immediately classify any piece of trash into the right category for each bin. However, our robot cell only has three sensors:\n",
        "- a scale, outputting light | heavy\n",
        "- a conductivity sensor, outputting true|false\n",
        "- a camera with a three detection algorithms: bottle, cardboard, paper\n",
        "\n",
        "TODO: talk about likelihoods: $P(scale = heavy | object = cardboard)$\n"
      ],
      "metadata": {
        "id": "5_gRa4NQZsD4"
      }
    },
    {
      "cell_type": "markdown",
      "source": [],
      "metadata": {}
    }
  ]
}