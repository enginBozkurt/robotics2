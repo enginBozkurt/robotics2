{
  "nbformat": 4,
  "nbformat_minor": 0,
  "metadata": {
    "colab": {
      "name": "S11_sorter_state.ipynb",
      "provenance": [],
      "collapsed_sections": [],
      "authorship_tag": "ABX9TyNN/hL4mv1x/IFtA9JdkGnY",
      "include_colab_link": true
    },
    "kernelspec": {
      "name": "python3",
      "display_name": "Python 3"
    },
    "language_info": {
      "name": "python"
    }
  },
  "cells": [
    {
      "cell_type": "markdown",
      "metadata": {
        "id": "view-in-github",
        "colab_type": "text"
      },
      "source": [
        "<a href=\"https://colab.research.google.com/github/dellaert/robotics2/blob/main/S11_sorter_state.ipynb\" target=\"_parent\"><img src=\"https://colab.research.google.com/assets/colab-badge.svg\" alt=\"Open In Colab\"/></a>"
      ]
    },
    {
      "cell_type": "code",
      "metadata": {
        "id": "JoW4C_OkOMhe"
      },
      "source": [
        "!pip -q install gtsam"
      ],
      "execution_count": 2,
      "outputs": []
    },
    {
      "cell_type": "code",
      "metadata": {
        "id": "10-snNDwOSuC"
      },
      "source": [
        "import gtsam"
      ],
      "execution_count": 3,
      "outputs": []
    },
    {
      "cell_type": "markdown",
      "metadata": {
        "id": "nAvx4-UCNzt2"
      },
      "source": [
        "# A Sorting Robot\n",
        "\n",
        "The first robot we will discuss is a simple trash sorter robot.\n",
        "\n",
        "The state of this robot is very simple:"
      ]
    },
    {
      "cell_type": "code",
      "metadata": {
        "colab": {
          "base_uri": "https://localhost:8080/"
        },
        "id": "D7syFSrlOVSu",
        "outputId": "56407dc4-da0b-40de-98b3-b70824193ef1"
      },
      "source": [
        "# A discrete state:\n",
        "\n",
        "gtsam.Pose3()"
      ],
      "execution_count": 4,
      "outputs": [
        {
          "output_type": "execute_result",
          "data": {
            "text/plain": [
              "R: [\n",
              "\t1, 0, 0;\n",
              "\t0, 1, 0;\n",
              "\t0, 0, 1\n",
              "]\n",
              "t: 0 0 0"
            ]
          },
          "metadata": {},
          "execution_count": 4
        }
      ]
    },
    {
      "cell_type": "code",
      "metadata": {
        "id": "mldsCQGBObsv"
      },
      "source": [
        ""
      ],
      "execution_count": null,
      "outputs": []
    }
  ]
}